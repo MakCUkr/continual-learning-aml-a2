{
 "cells": [
  {
   "cell_type": "markdown",
   "metadata": {},
   "source": [
    "### No Noise Data"
   ]
  },
  {
   "cell_type": "markdown",
   "metadata": {},
   "source": [
    "#### No Noise Data (Training)"
   ]
  },
  {
   "cell_type": "code",
   "execution_count": 1,
   "metadata": {},
   "outputs": [],
   "source": [
    "from sklearn.neighbors import KNeighborsClassifier\n",
    "from sklearn.model_selection import train_test_split\n",
    "from sklearn.preprocessing import StandardScaler\n",
    "from sklearn.metrics import accuracy_score\n",
    "import pandas as pd\n",
    "from collections import deque\n",
    "from sklearn.neighbors import KNeighborsClassifier\n",
    "from sklearn.preprocessing import StandardScaler\n",
    "from sklearn.neighbors import KNeighborsClassifier\n",
    "from sklearn.model_selection import train_test_split\n",
    "from sklearn.preprocessing import StandardScaler\n",
    "from sklearn.metrics import accuracy_score\n",
    "import pandas as pd\n",
    "from tensorflow.keras.utils import to_categorical\n",
    "from tqdm import tqdm\n",
    "import numpy as np"
   ]
  },
  {
   "cell_type": "code",
   "execution_count": 2,
   "metadata": {},
   "outputs": [],
   "source": [
    "file_path = 'cf_train_no_noise.csv'\n",
    "file_path_test = 'cf_test_no_noise.csv'\n",
    "data = pd.read_csv(file_path)\n",
    "data_test = pd.read_csv(file_path_test)"
   ]
  },
  {
   "cell_type": "code",
   "execution_count": 3,
   "metadata": {},
   "outputs": [],
   "source": [
    "unnecessary_columns = ['row_num', 'day', 'era', 'target_10_val', 'target_5_val', 'sigma', 'day_no']\n",
    "# Train\n",
    "X_train = data.drop(columns=unnecessary_columns)\n",
    "y_train = data['target_10_val']\n",
    "y_train = to_categorical((y_train*4).astype(int))\n",
    "scaler = StandardScaler()\n",
    "X_train = scaler.fit_transform(X_train)\n",
    "\n",
    "# Test\n",
    "X_test = data_test.drop(columns=unnecessary_columns)\n",
    "X_test = scaler.transform(X_test)\n",
    "y_test = to_categorical((data_test['target_10_val']*4).astype(int))"
   ]
  },
  {
   "cell_type": "code",
   "execution_count": 4,
   "metadata": {},
   "outputs": [],
   "source": [
    "class ConceptDriftDetector:\n",
    "    def __init__(self, threshold=0.05, buffer_size=50):\n",
    "        self.threshold = threshold\n",
    "        self.buffer_size = buffer_size\n",
    "        self.errors = deque(maxlen=buffer_size)\n",
    "        self.previous_error_rate = None\n",
    "\n",
    "    def detect(self, y_trues, y_preds):\n",
    "        y_trues = np.array(y_trues).flatten()\n",
    "        y_preds = np.array(y_preds).flatten()\n",
    "        batch_errors = [int(y_true != y_pred) for y_true, y_pred in zip(y_trues, y_preds)]\n",
    "        self.errors.extend(batch_errors)\n",
    "        if len(self.errors) == self.buffer_size:\n",
    "            error_rate = sum(self.errors) / self.buffer_size\n",
    "            if self.previous_error_rate is not None:\n",
    "                if error_rate - self.previous_error_rate > self.threshold:\n",
    "                    print(f\"Concept drift detected: Error rate increased from {self.previous_error_rate} to {error_rate}\")\n",
    "                    return True\n",
    "            self.previous_error_rate = error_rate\n",
    "        return False"
   ]
  },
  {
   "cell_type": "code",
   "execution_count": 5,
   "metadata": {},
   "outputs": [],
   "source": [
    "drift_detector = ConceptDriftDetector(threshold=0.04, buffer_size=50)"
   ]
  },
  {
   "cell_type": "code",
   "execution_count": 6,
   "metadata": {},
   "outputs": [],
   "source": [
    "class SlidingWindowKNN:\n",
    "    def __init__(self, window_size, n_neighbors):\n",
    "        self.window_size = window_size\n",
    "        self.n_neighbors = n_neighbors\n",
    "        self.scaler = StandardScaler()\n",
    "        self.knn = KNeighborsClassifier(n_neighbors=n_neighbors)\n",
    "        self.window = deque(maxlen=window_size)\n",
    "    def fit(self, X, y):\n",
    "        X_scaled = self.scaler.fit_transform(X)\n",
    "        self.knn.fit(X_scaled, y)\n",
    "    def partial_fit(self, X_new, y_new):\n",
    "        self.window.append((X_new, y_new))\n",
    "        if len(self.window) == self.window_size:\n",
    "            X_window, y_window = zip(*self.window)\n",
    "            X_window_scaled = self.scaler.transform(X_window)\n",
    "            self.knn.fit(X_window_scaled, y_window)\n",
    "    def predict(self, X):\n",
    "        X_scaled = self.scaler.transform(X)\n",
    "        return self.knn.predict(X_scaled)"
   ]
  },
  {
   "cell_type": "code",
   "execution_count": 7,
   "metadata": {},
   "outputs": [],
   "source": [
    "window_size = 1000\n",
    "n_neighbors = 15\n",
    "model = SlidingWindowKNN(window_size, n_neighbors)\n",
    "model.fit(X_train[:window_size], y_train[:window_size])"
   ]
  },
  {
   "cell_type": "code",
   "execution_count": 8,
   "metadata": {},
   "outputs": [
    {
     "name": "stderr",
     "output_type": "stream",
     "text": [
      "  0%|          | 0/614 [00:00<?, ?it/s]"
     ]
    },
    {
     "name": "stderr",
     "output_type": "stream",
     "text": [
      " 10%|█         | 62/614 [00:00<00:02, 242.60it/s]"
     ]
    },
    {
     "name": "stdout",
     "output_type": "stream",
     "text": [
      "Concept drift detected: Error rate increased from 0.12 to 0.16\n"
     ]
    },
    {
     "name": "stderr",
     "output_type": "stream",
     "text": [
      " 28%|██▊       | 170/614 [00:02<00:06, 63.74it/s]"
     ]
    },
    {
     "name": "stdout",
     "output_type": "stream",
     "text": [
      "Accuracy at 10000 is 68.59455128205128%\n",
      "Concept drift detected: Error rate increased from 0.06 to 0.1\n",
      "Concept drift detected: Error rate increased from 0.06 to 0.1\n",
      "Concept drift detected: Error rate increased from 0.06 to 0.1\n",
      "Concept drift detected: Error rate increased from 0.06 to 0.1\n",
      "Concept drift detected: Error rate increased from 0.06 to 0.1\n"
     ]
    },
    {
     "name": "stderr",
     "output_type": "stream",
     "text": [
      " 34%|███▍      | 208/614 [00:05<00:12, 32.17it/s]"
     ]
    },
    {
     "name": "stdout",
     "output_type": "stream",
     "text": [
      "Accuracy at 20000 is 70.50160256410255%\n",
      "Concept drift detected: Error rate increased from 0.12 to 0.16\n",
      "Concept drift detected: Error rate increased from 0.12 to 0.2\n",
      "Concept drift detected: Error rate increased from 0.12 to 0.2\n",
      "Concept drift detected: Error rate increased from 0.12 to 0.22\n",
      "Concept drift detected: Error rate increased from 0.12 to 0.22\n",
      "Concept drift detected: Error rate increased from 0.12 to 0.2\n",
      "Concept drift detected: Error rate increased from 0.12 to 0.2\n",
      "Concept drift detected: Error rate increased from 0.12 to 0.2\n",
      "Concept drift detected: Error rate increased from 0.12 to 0.18\n",
      "Concept drift detected: Error rate increased from 0.06 to 0.1\n",
      "Concept drift detected: Error rate increased from 0.06 to 0.12\n",
      "Concept drift detected: Error rate increased from 0.06 to 0.1\n",
      "Concept drift detected: Error rate increased from 0.06 to 0.1\n",
      "Concept drift detected: Error rate increased from 0.12 to 0.16\n"
     ]
    },
    {
     "name": "stderr",
     "output_type": "stream",
     "text": [
      " 47%|████▋     | 291/614 [00:08<00:09, 32.50it/s]"
     ]
    },
    {
     "name": "stdout",
     "output_type": "stream",
     "text": [
      "Accuracy at 30000 is 69.58333333333333%\n",
      "Concept drift detected: Error rate increased from 0.06 to 0.1\n"
     ]
    },
    {
     "name": "stderr",
     "output_type": "stream",
     "text": [
      " 64%|██████▎   | 391/614 [00:10<00:06, 35.23it/s]"
     ]
    },
    {
     "name": "stdout",
     "output_type": "stream",
     "text": [
      "Accuracy at 40000 is 69.55608974358974%\n"
     ]
    },
    {
     "name": "stderr",
     "output_type": "stream",
     "text": [
      " 80%|███████▉  | 491/614 [00:13<00:03, 36.74it/s]"
     ]
    },
    {
     "name": "stdout",
     "output_type": "stream",
     "text": [
      "Accuracy at 50000 is 69.55608974358974%\n",
      "Concept drift detected: Error rate increased from 0.06 to 0.1\n",
      "Concept drift detected: Error rate increased from 0.06 to 0.1\n",
      "Concept drift detected: Error rate increased from 0.06 to 0.1\n"
     ]
    },
    {
     "name": "stderr",
     "output_type": "stream",
     "text": [
      "100%|██████████| 614/614 [00:15<00:00, 39.15it/s]"
     ]
    },
    {
     "name": "stdout",
     "output_type": "stream",
     "text": [
      "Accuracy at 60000 is 70.50160256410255%\n",
      "Concept drift detected: Error rate increased from 0.1 to 0.14\n"
     ]
    },
    {
     "name": "stderr",
     "output_type": "stream",
     "text": [
      "\n"
     ]
    }
   ],
   "source": [
    "step_size = 100\n",
    "for i in tqdm(range(window_size, len(X_train), step_size)):\n",
    "    X_new = X_train[i:i+step_size][0]  \n",
    "    y_new = y_train[i:i+step_size][0]\n",
    "    model.partial_fit(X_new, y_new)\n",
    "    y_pred = model.predict([X_new])\n",
    "\n",
    "    if i % 10000 == 0:\n",
    "        y_pred = model.predict(X_test)\n",
    "        accuracy = accuracy_score(y_test, y_pred)\n",
    "        print(f'Accuracy at {i} is {accuracy*100}%')\n",
    "    \n",
    "    drift = drift_detector.detect(y_trues=y_new, y_preds=y_pred)\n",
    "\n",
    "    if drift:\n",
    "        model = SlidingWindowKNN(window_size, n_neighbors)\n",
    "        model.fit(X_train[max(0, i-window_size):i], y_train[max(0, i-window_size):i])"
   ]
  },
  {
   "cell_type": "markdown",
   "metadata": {},
   "source": [
    "#### No Noise Data (Results)"
   ]
  },
  {
   "cell_type": "code",
   "execution_count": 9,
   "metadata": {},
   "outputs": [
    {
     "name": "stdout",
     "output_type": "stream",
     "text": [
      "Testing Accuracy: 70.22%\n"
     ]
    }
   ],
   "source": [
    "y_pred = model.predict(X_test)\n",
    "accuracy = accuracy_score(y_test, y_pred)\n",
    "print(f\"Testing Accuracy: {accuracy * 100:.2f}%\")"
   ]
  },
  {
   "cell_type": "markdown",
   "metadata": {},
   "source": [
    "### Noisy data"
   ]
  },
  {
   "cell_type": "markdown",
   "metadata": {},
   "source": [
    "#### Noisy data (Training)"
   ]
  },
  {
   "cell_type": "code",
   "execution_count": 17,
   "metadata": {},
   "outputs": [],
   "source": [
    "for name in dir():\n",
    "    if not name.startswith('_'):\n",
    "        del globals()[name]"
   ]
  },
  {
   "cell_type": "code",
   "execution_count": 38,
   "metadata": {},
   "outputs": [],
   "source": [
    "from sklearn.neighbors import KNeighborsClassifier\n",
    "from sklearn.model_selection import train_test_split\n",
    "from sklearn.preprocessing import StandardScaler\n",
    "from sklearn.metrics import accuracy_score\n",
    "import pandas as pd\n",
    "from collections import deque\n",
    "from sklearn.neighbors import KNeighborsClassifier\n",
    "from sklearn.preprocessing import StandardScaler\n",
    "from sklearn.neighbors import KNeighborsClassifier\n",
    "from sklearn.model_selection import train_test_split\n",
    "from sklearn.preprocessing import StandardScaler\n",
    "from sklearn.metrics import accuracy_score\n",
    "import numpy as np\n",
    "import pandas as pd\n",
    "from tensorflow.keras.utils import to_categorical\n",
    "from tqdm import tqdm"
   ]
  },
  {
   "cell_type": "code",
   "execution_count": 39,
   "metadata": {},
   "outputs": [],
   "source": [
    "file_path = 'cf_train.csv'\n",
    "file_path_test = 'cf_test.csv'\n",
    "data = pd.read_csv(file_path)\n",
    "data_test = pd.read_csv(file_path_test)"
   ]
  },
  {
   "cell_type": "code",
   "execution_count": 40,
   "metadata": {},
   "outputs": [],
   "source": [
    "unnecessary_columns = ['row_num', 'day', 'era', 'target_10_val', 'target_5_val', 'sigma', 'day_no']\n",
    "# Train\n",
    "X_train = data.drop(columns=unnecessary_columns)\n",
    "y_train = data['target_10_val']\n",
    "y_train = to_categorical((y_train*4).astype(int))\n",
    "scaler = StandardScaler()\n",
    "X_train = scaler.fit_transform(X_train)\n",
    "\n",
    "# Test\n",
    "X_test = data_test.drop(columns=unnecessary_columns)\n",
    "X_test = scaler.transform(X_test)\n",
    "y_test = to_categorical((data_test['target_10_val']*4).astype(int))"
   ]
  },
  {
   "cell_type": "code",
   "execution_count": 41,
   "metadata": {},
   "outputs": [],
   "source": [
    "class SlidingWindowKNN:\n",
    "    def __init__(self, window_size, n_neighbors):\n",
    "        self.window_size = window_size\n",
    "        self.n_neighbors = n_neighbors\n",
    "        self.scaler = StandardScaler()\n",
    "        self.knn = KNeighborsClassifier(n_neighbors=n_neighbors)\n",
    "        self.window = deque(maxlen=window_size)\n",
    "    \n",
    "    def fit(self, X, y):\n",
    "        X_scaled = self.scaler.fit_transform(X)\n",
    "        self.knn.fit(X_scaled, y)\n",
    "    \n",
    "    def partial_fit(self, X_new, y_new):\n",
    "        self.window.append((X_new, y_new))\n",
    "        if len(self.window) == self.window_size:\n",
    "            X_window, y_window = zip(*self.window)\n",
    "            X_window_scaled = self.scaler.transform(X_window)\n",
    "            self.knn.fit(X_window_scaled, y_window)\n",
    "    \n",
    "    def predict(self, X):\n",
    "        X_scaled = self.scaler.transform(X)\n",
    "        return self.knn.predict(X_scaled)"
   ]
  },
  {
   "cell_type": "code",
   "execution_count": 42,
   "metadata": {},
   "outputs": [],
   "source": [
    "class ConceptDriftDetector:\n",
    "    def __init__(self, threshold=0.05, buffer_size=50):\n",
    "        self.threshold = threshold\n",
    "        self.buffer_size = buffer_size\n",
    "        self.errors = deque(maxlen=buffer_size)\n",
    "        self.previous_error_rate = None\n",
    "\n",
    "    def detect(self, y_trues, y_preds):\n",
    "        y_trues = np.array(y_trues).flatten()\n",
    "        y_preds = np.array(y_preds).flatten()\n",
    "        batch_errors = [int(y_true != y_pred) for y_true, y_pred in zip(y_trues, y_preds)]\n",
    "        self.errors.extend(batch_errors)\n",
    "        if len(self.errors) == self.buffer_size:\n",
    "            error_rate = sum(self.errors) / self.buffer_size\n",
    "            if self.previous_error_rate is not None:\n",
    "                if error_rate - self.previous_error_rate > self.threshold:\n",
    "                    print(f\"Concept drift detected: Error rate increased from {self.previous_error_rate} to {error_rate}\")\n",
    "                    return True\n",
    "            self.previous_error_rate = error_rate\n",
    "        return False"
   ]
  },
  {
   "cell_type": "code",
   "execution_count": 43,
   "metadata": {},
   "outputs": [],
   "source": [
    "drift_detector = ConceptDriftDetector(threshold=0.04, buffer_size=50)"
   ]
  },
  {
   "cell_type": "code",
   "execution_count": 44,
   "metadata": {},
   "outputs": [],
   "source": [
    "window_size = 1000\n",
    "n_neighbors = 15\n",
    "model = SlidingWindowKNN(window_size, n_neighbors)\n",
    "model.fit(X_train[:window_size], y_train[:window_size])"
   ]
  },
  {
   "cell_type": "code",
   "execution_count": 45,
   "metadata": {},
   "outputs": [
    {
     "name": "stderr",
     "output_type": "stream",
     "text": [
      "  0%|          | 0/614 [00:00<?, ?it/s]"
     ]
    },
    {
     "name": "stdout",
     "output_type": "stream",
     "text": [
      "Concept drift detected: Error rate increased from 0.18 to 0.22\n",
      "Concept drift detected: Error rate increased from 0.18 to 0.22\n",
      "Concept drift detected: Error rate increased from 0.18 to 0.24\n",
      "Concept drift detected: Error rate increased from 0.18 to 0.24\n",
      "Concept drift detected: Error rate increased from 0.18 to 0.24\n",
      "Concept drift detected: Error rate increased from 0.18 to 0.26\n",
      "Concept drift detected: Error rate increased from 0.18 to 0.26\n",
      "Concept drift detected: Error rate increased from 0.18 to 0.22\n",
      "Concept drift detected: Error rate increased from 0.18 to 0.22\n",
      "Concept drift detected: Error rate increased from 0.12 to 0.16\n",
      "Concept drift detected: Error rate increased from 0.12 to 0.16\n",
      "Concept drift detected: Error rate increased from 0.12 to 0.16\n",
      "Concept drift detected: Error rate increased from 0.16 to 0.2\n",
      "Concept drift detected: Error rate increased from 0.16 to 0.22\n"
     ]
    },
    {
     "name": "stderr",
     "output_type": "stream",
     "text": [
      " 28%|██▊       | 174/614 [00:02<00:05, 76.84it/s]"
     ]
    },
    {
     "name": "stdout",
     "output_type": "stream",
     "text": [
      "Accuracy at 10000 is 26.991987179487182%\n",
      "Concept drift detected: Error rate increased from 0.16 to 0.24\n",
      "Concept drift detected: Error rate increased from 0.16 to 0.22\n",
      "Concept drift detected: Error rate increased from 0.16 to 0.22\n",
      "Concept drift detected: Error rate increased from 0.16 to 0.2\n",
      "Concept drift detected: Error rate increased from 0.16 to 0.2\n",
      "Concept drift detected: Error rate increased from 0.16 to 0.22\n",
      "Concept drift detected: Error rate increased from 0.16 to 0.24\n",
      "Concept drift detected: Error rate increased from 0.16 to 0.24\n",
      "Concept drift detected: Error rate increased from 0.16 to 0.22\n",
      "Concept drift detected: Error rate increased from 0.16 to 0.22\n",
      "Concept drift detected: Error rate increased from 0.16 to 0.2\n",
      "Concept drift detected: Error rate increased from 0.16 to 0.24\n",
      "Concept drift detected: Error rate increased from 0.16 to 0.22\n",
      "Concept drift detected: Error rate increased from 0.16 to 0.22\n",
      "Concept drift detected: Error rate increased from 0.16 to 0.2\n",
      "Concept drift detected: Error rate increased from 0.16 to 0.22\n",
      "Concept drift detected: Error rate increased from 0.16 to 0.2\n",
      "Concept drift detected: Error rate increased from 0.16 to 0.2\n",
      "Concept drift detected: Error rate increased from 0.16 to 0.22\n",
      "Concept drift detected: Error rate increased from 0.16 to 0.22\n",
      "Concept drift detected: Error rate increased from 0.16 to 0.22\n",
      "Concept drift detected: Error rate increased from 0.16 to 0.2\n",
      "Concept drift detected: Error rate increased from 0.16 to 0.22\n",
      "Concept drift detected: Error rate increased from 0.16 to 0.24\n",
      "Concept drift detected: Error rate increased from 0.16 to 0.28\n",
      "Concept drift detected: Error rate increased from 0.16 to 0.28\n",
      "Concept drift detected: Error rate increased from 0.16 to 0.28\n",
      "Concept drift detected: Error rate increased from 0.16 to 0.26\n",
      "Concept drift detected: Error rate increased from 0.16 to 0.22\n",
      "Concept drift detected: Error rate increased from 0.16 to 0.24\n",
      "Concept drift detected: Error rate increased from 0.16 to 0.24\n",
      "Concept drift detected: Error rate increased from 0.16 to 0.26\n",
      "Concept drift detected: Error rate increased from 0.16 to 0.26\n",
      "Concept drift detected: Error rate increased from 0.16 to 0.24\n",
      "Concept drift detected: Error rate increased from 0.16 to 0.2\n"
     ]
    },
    {
     "name": "stderr",
     "output_type": "stream",
     "text": [
      " 37%|███▋      | 225/614 [00:05<00:09, 39.46it/s]"
     ]
    },
    {
     "name": "stdout",
     "output_type": "stream",
     "text": [
      "Accuracy at 20000 is 21.892628205128204%\n",
      "Concept drift detected: Error rate increased from 0.16 to 0.2\n",
      "Concept drift detected: Error rate increased from 0.16 to 0.2\n",
      "Concept drift detected: Error rate increased from 0.16 to 0.2\n",
      "Concept drift detected: Error rate increased from 0.16 to 0.24\n",
      "Concept drift detected: Error rate increased from 0.16 to 0.24\n",
      "Concept drift detected: Error rate increased from 0.16 to 0.24\n",
      "Concept drift detected: Error rate increased from 0.16 to 0.22\n",
      "Concept drift detected: Error rate increased from 0.16 to 0.22\n",
      "Concept drift detected: Error rate increased from 0.16 to 0.22\n",
      "Concept drift detected: Error rate increased from 0.16 to 0.24\n",
      "Concept drift detected: Error rate increased from 0.16 to 0.2\n",
      "Concept drift detected: Error rate increased from 0.16 to 0.22\n",
      "Concept drift detected: Error rate increased from 0.16 to 0.2\n",
      "Concept drift detected: Error rate increased from 0.18 to 0.22\n",
      "Concept drift detected: Error rate increased from 0.12 to 0.16\n",
      "Concept drift detected: Error rate increased from 0.12 to 0.16\n",
      "Concept drift detected: Error rate increased from 0.12 to 0.18\n",
      "Concept drift detected: Error rate increased from 0.12 to 0.2\n",
      "Concept drift detected: Error rate increased from 0.12 to 0.18\n",
      "Concept drift detected: Error rate increased from 0.12 to 0.16\n",
      "Concept drift detected: Error rate increased from 0.12 to 0.18\n",
      "Concept drift detected: Error rate increased from 0.12 to 0.2\n",
      "Concept drift detected: Error rate increased from 0.12 to 0.18\n",
      "Concept drift detected: Error rate increased from 0.12 to 0.18\n",
      "Concept drift detected: Error rate increased from 0.12 to 0.16\n",
      "Concept drift detected: Error rate increased from 0.12 to 0.16\n",
      "Concept drift detected: Error rate increased from 0.12 to 0.16\n",
      "Concept drift detected: Error rate increased from 0.12 to 0.16\n",
      "Concept drift detected: Error rate increased from 0.12 to 0.16\n",
      "Concept drift detected: Error rate increased from 0.12 to 0.16\n"
     ]
    },
    {
     "name": "stderr",
     "output_type": "stream",
     "text": [
      " 61%|██████    | 373/614 [00:07<00:04, 53.28it/s]"
     ]
    },
    {
     "name": "stdout",
     "output_type": "stream",
     "text": [
      "Accuracy at 30000 is 32.02403846153846%\n",
      "Concept drift detected: Error rate increased from 0.1 to 0.14\n",
      "Concept drift detected: Error rate increased from 0.1 to 0.14\n",
      "Concept drift detected: Error rate increased from 0.12 to 0.16\n",
      "Concept drift detected: Error rate increased from 0.12 to 0.16\n",
      "Concept drift detected: Error rate increased from 0.12 to 0.18\n",
      "Concept drift detected: Error rate increased from 0.12 to 0.2\n",
      "Concept drift detected: Error rate increased from 0.12 to 0.2\n",
      "Concept drift detected: Error rate increased from 0.12 to 0.18\n",
      "Concept drift detected: Error rate increased from 0.12 to 0.16\n",
      "Concept drift detected: Error rate increased from 0.12 to 0.16\n",
      "Concept drift detected: Error rate increased from 0.12 to 0.16\n",
      "Concept drift detected: Error rate increased from 0.12 to 0.16\n",
      "Concept drift detected: Error rate increased from 0.16 to 0.2\n",
      "Concept drift detected: Error rate increased from 0.16 to 0.2\n",
      "Concept drift detected: Error rate increased from 0.16 to 0.2\n",
      "Concept drift detected: Error rate increased from 0.16 to 0.22\n",
      "Concept drift detected: Error rate increased from 0.16 to 0.24\n",
      "Concept drift detected: Error rate increased from 0.16 to 0.22\n",
      "Concept drift detected: Error rate increased from 0.16 to 0.24\n",
      "Concept drift detected: Error rate increased from 0.16 to 0.22\n",
      "Concept drift detected: Error rate increased from 0.16 to 0.2\n",
      "Concept drift detected: Error rate increased from 0.16 to 0.22\n",
      "Concept drift detected: Error rate increased from 0.16 to 0.2\n",
      "Concept drift detected: Error rate increased from 0.16 to 0.24\n",
      "Concept drift detected: Error rate increased from 0.16 to 0.24\n",
      "Concept drift detected: Error rate increased from 0.16 to 0.24\n",
      "Concept drift detected: Error rate increased from 0.16 to 0.22\n",
      "Concept drift detected: Error rate increased from 0.16 to 0.22\n",
      "Concept drift detected: Error rate increased from 0.16 to 0.22\n",
      "Concept drift detected: Error rate increased from 0.16 to 0.24\n",
      "Concept drift detected: Error rate increased from 0.16 to 0.26\n",
      "Concept drift detected: Error rate increased from 0.16 to 0.24\n",
      "Concept drift detected: Error rate increased from 0.16 to 0.22\n",
      "Concept drift detected: Error rate increased from 0.24 to 0.28\n",
      "Concept drift detected: Error rate increased from 0.1 to 0.14\n",
      "Concept drift detected: Error rate increased from 0.1 to 0.16\n",
      "Concept drift detected: Error rate increased from 0.1 to 0.16\n",
      "Concept drift detected: Error rate increased from 0.1 to 0.16\n",
      "Concept drift detected: Error rate increased from 0.1 to 0.18\n",
      "Concept drift detected: Error rate increased from 0.1 to 0.16\n",
      "Concept drift detected: Error rate increased from 0.1 to 0.16\n",
      "Concept drift detected: Error rate increased from 0.1 to 0.18\n",
      "Concept drift detected: Error rate increased from 0.1 to 0.2\n",
      "Concept drift detected: Error rate increased from 0.1 to 0.24\n",
      "Concept drift detected: Error rate increased from 0.1 to 0.22\n",
      "Concept drift detected: Error rate increased from 0.1 to 0.18\n",
      "Concept drift detected: Error rate increased from 0.1 to 0.18\n"
     ]
    },
    {
     "name": "stderr",
     "output_type": "stream",
     "text": [
      " 78%|███████▊  | 481/614 [00:10<00:02, 51.75it/s]"
     ]
    },
    {
     "name": "stdout",
     "output_type": "stream",
     "text": [
      "Accuracy at 40000 is 26.150641025641026%\n",
      "Concept drift detected: Error rate increased from 0.1 to 0.18\n",
      "Concept drift detected: Error rate increased from 0.1 to 0.16\n",
      "Concept drift detected: Error rate increased from 0.1 to 0.18\n",
      "Concept drift detected: Error rate increased from 0.1 to 0.18\n",
      "Concept drift detected: Error rate increased from 0.1 to 0.18\n",
      "Concept drift detected: Error rate increased from 0.1 to 0.16\n",
      "Concept drift detected: Error rate increased from 0.1 to 0.14\n",
      "Concept drift detected: Error rate increased from 0.1 to 0.14\n",
      "Concept drift detected: Error rate increased from 0.1 to 0.16\n",
      "Concept drift detected: Error rate increased from 0.1 to 0.16\n",
      "Concept drift detected: Error rate increased from 0.1 to 0.16\n",
      "Concept drift detected: Error rate increased from 0.1 to 0.2\n",
      "Concept drift detected: Error rate increased from 0.1 to 0.22\n",
      "Concept drift detected: Error rate increased from 0.1 to 0.22\n",
      "Concept drift detected: Error rate increased from 0.1 to 0.22\n",
      "Concept drift detected: Error rate increased from 0.1 to 0.22\n",
      "Concept drift detected: Error rate increased from 0.1 to 0.22\n",
      "Concept drift detected: Error rate increased from 0.1 to 0.22\n",
      "Concept drift detected: Error rate increased from 0.1 to 0.24\n",
      "Concept drift detected: Error rate increased from 0.1 to 0.26\n",
      "Concept drift detected: Error rate increased from 0.1 to 0.26\n",
      "Concept drift detected: Error rate increased from 0.1 to 0.24\n",
      "Concept drift detected: Error rate increased from 0.1 to 0.24\n",
      "Concept drift detected: Error rate increased from 0.1 to 0.22\n",
      "Concept drift detected: Error rate increased from 0.1 to 0.22\n",
      "Concept drift detected: Error rate increased from 0.1 to 0.26\n",
      "Concept drift detected: Error rate increased from 0.1 to 0.28\n",
      "Concept drift detected: Error rate increased from 0.1 to 0.28\n",
      "Concept drift detected: Error rate increased from 0.1 to 0.26\n",
      "Concept drift detected: Error rate increased from 0.1 to 0.24\n",
      "Concept drift detected: Error rate increased from 0.1 to 0.22\n",
      "Concept drift detected: Error rate increased from 0.1 to 0.22\n",
      "Concept drift detected: Error rate increased from 0.1 to 0.2\n",
      "Concept drift detected: Error rate increased from 0.1 to 0.22\n",
      "Concept drift detected: Error rate increased from 0.1 to 0.22\n",
      "Concept drift detected: Error rate increased from 0.1 to 0.22\n",
      "Concept drift detected: Error rate increased from 0.1 to 0.2\n",
      "Concept drift detected: Error rate increased from 0.1 to 0.2\n",
      "Concept drift detected: Error rate increased from 0.1 to 0.18\n",
      "Concept drift detected: Error rate increased from 0.1 to 0.16\n",
      "Concept drift detected: Error rate increased from 0.1 to 0.16\n",
      "Concept drift detected: Error rate increased from 0.1 to 0.16\n",
      "Concept drift detected: Error rate increased from 0.1 to 0.18\n",
      "Concept drift detected: Error rate increased from 0.1 to 0.18\n",
      "Concept drift detected: Error rate increased from 0.1 to 0.2\n",
      "Concept drift detected: Error rate increased from 0.1 to 0.18\n",
      "Concept drift detected: Error rate increased from 0.1 to 0.18\n",
      "Concept drift detected: Error rate increased from 0.1 to 0.18\n",
      "Concept drift detected: Error rate increased from 0.1 to 0.2\n",
      "Concept drift detected: Error rate increased from 0.1 to 0.2\n",
      "Concept drift detected: Error rate increased from 0.1 to 0.2\n",
      "Concept drift detected: Error rate increased from 0.1 to 0.22\n",
      "Concept drift detected: Error rate increased from 0.1 to 0.22\n",
      "Concept drift detected: Error rate increased from 0.1 to 0.22\n",
      "Concept drift detected: Error rate increased from 0.1 to 0.2\n",
      "Concept drift detected: Error rate increased from 0.1 to 0.2\n",
      "Concept drift detected: Error rate increased from 0.1 to 0.2\n",
      "Concept drift detected: Error rate increased from 0.1 to 0.18\n",
      "Concept drift detected: Error rate increased from 0.1 to 0.18\n",
      "Concept drift detected: Error rate increased from 0.1 to 0.18\n",
      "Concept drift detected: Error rate increased from 0.1 to 0.22\n",
      "Concept drift detected: Error rate increased from 0.1 to 0.2\n",
      "Concept drift detected: Error rate increased from 0.1 to 0.18\n",
      "Concept drift detected: Error rate increased from 0.1 to 0.16\n",
      "Concept drift detected: Error rate increased from 0.1 to 0.18\n",
      "Concept drift detected: Error rate increased from 0.1 to 0.18\n",
      "Concept drift detected: Error rate increased from 0.1 to 0.18\n",
      "Concept drift detected: Error rate increased from 0.1 to 0.18\n",
      "Concept drift detected: Error rate increased from 0.1 to 0.18\n",
      "Concept drift detected: Error rate increased from 0.1 to 0.18\n",
      "Concept drift detected: Error rate increased from 0.1 to 0.14\n",
      "Concept drift detected: Error rate increased from 0.12 to 0.16\n",
      "Concept drift detected: Error rate increased from 0.12 to 0.18\n",
      "Concept drift detected: Error rate increased from 0.12 to 0.16\n"
     ]
    },
    {
     "name": "stderr",
     "output_type": "stream",
     "text": [
      " 95%|█████████▍| 582/614 [00:13<00:00, 49.37it/s]"
     ]
    },
    {
     "name": "stdout",
     "output_type": "stream",
     "text": [
      "Accuracy at 50000 is 25.560897435897434%\n",
      "Concept drift detected: Error rate increased from 0.1 to 0.14\n",
      "Concept drift detected: Error rate increased from 0.12 to 0.16\n",
      "Concept drift detected: Error rate increased from 0.12 to 0.2\n",
      "Concept drift detected: Error rate increased from 0.12 to 0.22\n",
      "Concept drift detected: Error rate increased from 0.12 to 0.22\n",
      "Concept drift detected: Error rate increased from 0.12 to 0.22\n",
      "Concept drift detected: Error rate increased from 0.12 to 0.18\n",
      "Concept drift detected: Error rate increased from 0.12 to 0.16\n",
      "Concept drift detected: Error rate increased from 0.12 to 0.2\n",
      "Concept drift detected: Error rate increased from 0.12 to 0.22\n",
      "Concept drift detected: Error rate increased from 0.12 to 0.26\n",
      "Concept drift detected: Error rate increased from 0.12 to 0.26\n",
      "Concept drift detected: Error rate increased from 0.12 to 0.26\n",
      "Concept drift detected: Error rate increased from 0.12 to 0.28\n",
      "Concept drift detected: Error rate increased from 0.12 to 0.26\n",
      "Concept drift detected: Error rate increased from 0.12 to 0.28\n",
      "Concept drift detected: Error rate increased from 0.12 to 0.28\n",
      "Concept drift detected: Error rate increased from 0.12 to 0.3\n",
      "Concept drift detected: Error rate increased from 0.12 to 0.28\n",
      "Concept drift detected: Error rate increased from 0.12 to 0.3\n",
      "Concept drift detected: Error rate increased from 0.12 to 0.26\n",
      "Concept drift detected: Error rate increased from 0.12 to 0.24\n",
      "Concept drift detected: Error rate increased from 0.12 to 0.2\n",
      "Concept drift detected: Error rate increased from 0.12 to 0.18\n",
      "Concept drift detected: Error rate increased from 0.12 to 0.18\n",
      "Concept drift detected: Error rate increased from 0.12 to 0.2\n",
      "Concept drift detected: Error rate increased from 0.12 to 0.2\n",
      "Concept drift detected: Error rate increased from 0.12 to 0.16\n",
      "Concept drift detected: Error rate increased from 0.12 to 0.18\n",
      "Concept drift detected: Error rate increased from 0.12 to 0.16\n",
      "Concept drift detected: Error rate increased from 0.12 to 0.18\n",
      "Concept drift detected: Error rate increased from 0.12 to 0.18\n",
      "Concept drift detected: Error rate increased from 0.12 to 0.18\n",
      "Concept drift detected: Error rate increased from 0.12 to 0.2\n",
      "Concept drift detected: Error rate increased from 0.12 to 0.22\n",
      "Concept drift detected: Error rate increased from 0.12 to 0.22\n",
      "Concept drift detected: Error rate increased from 0.12 to 0.22\n",
      "Concept drift detected: Error rate increased from 0.12 to 0.24\n",
      "Concept drift detected: Error rate increased from 0.12 to 0.22\n",
      "Concept drift detected: Error rate increased from 0.12 to 0.22\n",
      "Concept drift detected: Error rate increased from 0.12 to 0.24\n",
      "Concept drift detected: Error rate increased from 0.12 to 0.24\n",
      "Concept drift detected: Error rate increased from 0.12 to 0.28\n",
      "Concept drift detected: Error rate increased from 0.12 to 0.28\n",
      "Concept drift detected: Error rate increased from 0.12 to 0.26\n",
      "Concept drift detected: Error rate increased from 0.12 to 0.24\n",
      "Concept drift detected: Error rate increased from 0.12 to 0.24\n",
      "Concept drift detected: Error rate increased from 0.12 to 0.24\n",
      "Concept drift detected: Error rate increased from 0.12 to 0.26\n",
      "Concept drift detected: Error rate increased from 0.12 to 0.26\n",
      "Concept drift detected: Error rate increased from 0.12 to 0.24\n",
      "Concept drift detected: Error rate increased from 0.12 to 0.22\n",
      "Concept drift detected: Error rate increased from 0.12 to 0.18\n",
      "Concept drift detected: Error rate increased from 0.12 to 0.16\n",
      "Concept drift detected: Error rate increased from 0.12 to 0.18\n",
      "Concept drift detected: Error rate increased from 0.12 to 0.18\n",
      "Concept drift detected: Error rate increased from 0.12 to 0.2\n",
      "Concept drift detected: Error rate increased from 0.12 to 0.2\n",
      "Concept drift detected: Error rate increased from 0.12 to 0.2\n",
      "Concept drift detected: Error rate increased from 0.12 to 0.2\n",
      "Concept drift detected: Error rate increased from 0.12 to 0.22\n",
      "Concept drift detected: Error rate increased from 0.12 to 0.22\n",
      "Concept drift detected: Error rate increased from 0.12 to 0.24\n",
      "Concept drift detected: Error rate increased from 0.12 to 0.22\n",
      "Concept drift detected: Error rate increased from 0.12 to 0.24\n",
      "Concept drift detected: Error rate increased from 0.12 to 0.24\n",
      "Concept drift detected: Error rate increased from 0.12 to 0.24\n",
      "Concept drift detected: Error rate increased from 0.12 to 0.24\n",
      "Concept drift detected: Error rate increased from 0.12 to 0.2\n",
      "Concept drift detected: Error rate increased from 0.12 to 0.2\n",
      "Concept drift detected: Error rate increased from 0.12 to 0.22\n",
      "Concept drift detected: Error rate increased from 0.12 to 0.22\n"
     ]
    },
    {
     "name": "stderr",
     "output_type": "stream",
     "text": [
      "100%|██████████| 614/614 [00:15<00:00, 38.76it/s]"
     ]
    },
    {
     "name": "stdout",
     "output_type": "stream",
     "text": [
      "Accuracy at 60000 is 23.825320512820515%\n",
      "Concept drift detected: Error rate increased from 0.12 to 0.24\n",
      "Concept drift detected: Error rate increased from 0.12 to 0.24\n",
      "Concept drift detected: Error rate increased from 0.12 to 0.2\n",
      "Concept drift detected: Error rate increased from 0.12 to 0.2\n",
      "Concept drift detected: Error rate increased from 0.12 to 0.18\n",
      "Concept drift detected: Error rate increased from 0.12 to 0.18\n",
      "Concept drift detected: Error rate increased from 0.12 to 0.22\n",
      "Concept drift detected: Error rate increased from 0.12 to 0.22\n",
      "Concept drift detected: Error rate increased from 0.12 to 0.2\n",
      "Concept drift detected: Error rate increased from 0.12 to 0.22\n",
      "Concept drift detected: Error rate increased from 0.12 to 0.2\n",
      "Concept drift detected: Error rate increased from 0.12 to 0.18\n",
      "Concept drift detected: Error rate increased from 0.12 to 0.22\n",
      "Concept drift detected: Error rate increased from 0.12 to 0.22\n",
      "Concept drift detected: Error rate increased from 0.12 to 0.22\n",
      "Concept drift detected: Error rate increased from 0.12 to 0.24\n",
      "Concept drift detected: Error rate increased from 0.12 to 0.22\n",
      "Concept drift detected: Error rate increased from 0.12 to 0.2\n",
      "Concept drift detected: Error rate increased from 0.12 to 0.2\n",
      "Concept drift detected: Error rate increased from 0.12 to 0.16\n"
     ]
    },
    {
     "name": "stderr",
     "output_type": "stream",
     "text": [
      "\n"
     ]
    }
   ],
   "source": [
    "step_size = 100\n",
    "for i in tqdm(range(window_size, len(X_train), step_size)):\n",
    "    X_new = X_train[i:i+step_size][0]  \n",
    "    y_new = y_train[i:i+step_size][0]\n",
    "    model.partial_fit(X_new, y_new)\n",
    "    y_pred = model.predict([X_new])\n",
    "\n",
    "    if i % 10000 == 0:\n",
    "        y_pred = model.predict(X_test)\n",
    "        accuracy = accuracy_score(y_test, y_pred)\n",
    "        print(f'Accuracy at {i} is {accuracy*100}%')\n",
    "    \n",
    "    drift = drift_detector.detect(y_trues=y_new, y_preds=y_pred)\n",
    "\n",
    "    if drift:\n",
    "        model = SlidingWindowKNN(window_size, n_neighbors)\n",
    "        model.fit(X_train[max(0, i-window_size):i], y_train[max(0, i-window_size):i])"
   ]
  },
  {
   "cell_type": "markdown",
   "metadata": {},
   "source": [
    "#### Noisy date (Results)"
   ]
  },
  {
   "cell_type": "code",
   "execution_count": 46,
   "metadata": {},
   "outputs": [
    {
     "name": "stdout",
     "output_type": "stream",
     "text": [
      "Testing Accuracy: 22.71%\n"
     ]
    }
   ],
   "source": [
    "y_pred = model.predict(X_test)\n",
    "accuracy = accuracy_score(y_test, y_pred)\n",
    "print(f\"Testing Accuracy: {accuracy * 100:.2f}%\")"
   ]
  },
  {
   "cell_type": "code",
   "execution_count": null,
   "metadata": {},
   "outputs": [],
   "source": []
  }
 ],
 "metadata": {
  "kernelspec": {
   "display_name": "Python 3",
   "language": "python",
   "name": "python3"
  },
  "language_info": {
   "codemirror_mode": {
    "name": "ipython",
    "version": 3
   },
   "file_extension": ".py",
   "mimetype": "text/x-python",
   "name": "python",
   "nbconvert_exporter": "python",
   "pygments_lexer": "ipython3",
   "version": "3.9.15"
  }
 },
 "nbformat": 4,
 "nbformat_minor": 2
}
