{
 "cells": [
  {
   "cell_type": "markdown",
   "metadata": {},
   "source": [
    "### No Noise Data"
   ]
  },
  {
   "cell_type": "markdown",
   "metadata": {},
   "source": [
    "#### No Noise Data (Training)"
   ]
  },
  {
   "cell_type": "code",
   "execution_count": 1,
   "metadata": {},
   "outputs": [],
   "source": [
    "from sklearn.neighbors import KNeighborsClassifier\n",
    "from sklearn.model_selection import train_test_split\n",
    "from sklearn.preprocessing import StandardScaler\n",
    "from sklearn.metrics import accuracy_score\n",
    "import pandas as pd\n",
    "from collections import deque\n",
    "from sklearn.neighbors import KNeighborsClassifier\n",
    "from sklearn.preprocessing import StandardScaler\n",
    "from sklearn.neighbors import KNeighborsClassifier\n",
    "from sklearn.model_selection import train_test_split\n",
    "from sklearn.preprocessing import StandardScaler\n",
    "from sklearn.metrics import accuracy_score\n",
    "import pandas as pd\n",
    "from tensorflow.keras.utils import to_categorical\n",
    "from tqdm import tqdm"
   ]
  },
  {
   "cell_type": "code",
   "execution_count": 2,
   "metadata": {},
   "outputs": [],
   "source": [
    "file_path = 'cf_train_no_noise.csv'\n",
    "file_path_test = 'cf_test_no_noise.csv'\n",
    "data = pd.read_csv(file_path)\n",
    "data_test = pd.read_csv(file_path_test)"
   ]
  },
  {
   "cell_type": "code",
   "execution_count": 3,
   "metadata": {},
   "outputs": [],
   "source": [
    "unnecessary_columns = ['row_num', 'day', 'era', 'target_10_val', 'target_5_val', 'sigma', 'day_no']\n",
    "# Train\n",
    "X_train = data.drop(columns=unnecessary_columns)\n",
    "y_train = data['target_10_val']\n",
    "y_train = to_categorical((y_train*4).astype(int))\n",
    "scaler = StandardScaler()\n",
    "X_train = scaler.fit_transform(X_train)\n",
    "\n",
    "# Test\n",
    "X_test = data_test.drop(columns=unnecessary_columns)\n",
    "X_test = scaler.transform(X_test)\n",
    "y_test = to_categorical((data_test['target_10_val']*4).astype(int))"
   ]
  },
  {
   "cell_type": "code",
   "execution_count": 4,
   "metadata": {},
   "outputs": [],
   "source": [
    "class SlidingWindowKNN:\n",
    "    def __init__(self, window_size, n_neighbors):\n",
    "        self.window_size = window_size\n",
    "        self.n_neighbors = n_neighbors\n",
    "        self.scaler = StandardScaler()\n",
    "        self.knn = KNeighborsClassifier(n_neighbors=n_neighbors)\n",
    "        self.window = deque(maxlen=window_size)\n",
    "    \n",
    "    def fit(self, X, y):\n",
    "        X_scaled = self.scaler.fit_transform(X)\n",
    "        self.knn.fit(X_scaled, y)\n",
    "    \n",
    "    def partial_fit(self, X_new, y_new):\n",
    "        self.window.append((X_new, y_new))\n",
    "        if len(self.window) == self.window_size:\n",
    "            X_window, y_window = zip(*self.window)\n",
    "            X_window_scaled = self.scaler.transform(X_window)\n",
    "            self.knn.fit(X_window_scaled, y_window)\n",
    "    \n",
    "    def predict(self, X):\n",
    "        X_scaled = self.scaler.transform(X)\n",
    "        return self.knn.predict(X_scaled)"
   ]
  },
  {
   "cell_type": "code",
   "execution_count": 5,
   "metadata": {},
   "outputs": [],
   "source": [
    "window_size = 1000\n",
    "n_neighbors = 15\n",
    "model = SlidingWindowKNN(window_size, n_neighbors)\n",
    "model.fit(X_train[:window_size], y_train[:window_size])"
   ]
  },
  {
   "cell_type": "code",
   "execution_count": 7,
   "metadata": {},
   "outputs": [
    {
     "name": "stderr",
     "output_type": "stream",
     "text": [
      "  0%|          | 1/61400 [00:00<1:52:03,  9.13it/s]"
     ]
    },
    {
     "name": "stderr",
     "output_type": "stream",
     "text": [
      " 15%|█▍        | 9071/61400 [00:19<11:42, 74.50it/s] "
     ]
    },
    {
     "name": "stdout",
     "output_type": "stream",
     "text": [
      "Accuracy at 10000 is 71.59615384615384%\n"
     ]
    },
    {
     "name": "stderr",
     "output_type": "stream",
     "text": [
      " 31%|███       | 19066/61400 [00:42<08:09, 86.40it/s] "
     ]
    },
    {
     "name": "stdout",
     "output_type": "stream",
     "text": [
      "Accuracy at 20000 is 71.92467948717949%\n"
     ]
    },
    {
     "name": "stderr",
     "output_type": "stream",
     "text": [
      " 47%|████▋     | 29055/61400 [01:04<06:58, 77.25it/s] "
     ]
    },
    {
     "name": "stdout",
     "output_type": "stream",
     "text": [
      "Accuracy at 30000 is 67.49198717948718%\n"
     ]
    },
    {
     "name": "stderr",
     "output_type": "stream",
     "text": [
      " 64%|██████▎   | 39092/61400 [01:25<04:14, 87.61it/s] "
     ]
    },
    {
     "name": "stdout",
     "output_type": "stream",
     "text": [
      "Accuracy at 40000 is 70.48557692307692%\n"
     ]
    },
    {
     "name": "stderr",
     "output_type": "stream",
     "text": [
      " 80%|███████▉  | 49058/61400 [01:46<02:17, 89.79it/s] "
     ]
    },
    {
     "name": "stdout",
     "output_type": "stream",
     "text": [
      "Accuracy at 50000 is 71.25641025641025%\n"
     ]
    },
    {
     "name": "stderr",
     "output_type": "stream",
     "text": [
      " 96%|█████████▌| 59062/61400 [02:06<00:26, 89.84it/s] "
     ]
    },
    {
     "name": "stdout",
     "output_type": "stream",
     "text": [
      "Accuracy at 60000 is 68.97435897435898%\n"
     ]
    },
    {
     "name": "stderr",
     "output_type": "stream",
     "text": [
      "100%|██████████| 61400/61400 [02:11<00:00, 467.74it/s]\n"
     ]
    }
   ],
   "source": [
    "for i in tqdm(range(window_size, len(X_train))):\n",
    "    X_new = X_train[i:i+1][0]  \n",
    "    y_new = y_train[i:i+1][0]\n",
    "    model.partial_fit(X_new, y_new)\n",
    "    y_pred = model.predict([X_new])\n",
    "\n",
    "    if i % 10000 == 0:\n",
    "        y_pred = model.predict(X_test)\n",
    "        accuracy = accuracy_score(y_test, y_pred)\n",
    "        print(f'Accuracy at {i} is {accuracy*100}%')"
   ]
  },
  {
   "cell_type": "markdown",
   "metadata": {},
   "source": [
    "#### No Noise Data (Results)"
   ]
  },
  {
   "cell_type": "code",
   "execution_count": 10,
   "metadata": {},
   "outputs": [
    {
     "name": "stdout",
     "output_type": "stream",
     "text": [
      "Testing Accuracy: 70.64%\n"
     ]
    }
   ],
   "source": [
    "y_pred = model.predict(X_test)\n",
    "accuracy = accuracy_score(y_test, y_pred)\n",
    "print(f\"Testing Accuracy: {accuracy * 100:.2f}%\")"
   ]
  },
  {
   "cell_type": "markdown",
   "metadata": {},
   "source": [
    "### Noisy data"
   ]
  },
  {
   "cell_type": "markdown",
   "metadata": {},
   "source": [
    "#### Noisy data (Training)"
   ]
  },
  {
   "cell_type": "code",
   "execution_count": 11,
   "metadata": {},
   "outputs": [],
   "source": [
    "for name in dir():\n",
    "    if not name.startswith('_'):\n",
    "        del globals()[name]"
   ]
  },
  {
   "cell_type": "code",
   "execution_count": 12,
   "metadata": {},
   "outputs": [],
   "source": [
    "from sklearn.neighbors import KNeighborsClassifier\n",
    "from sklearn.model_selection import train_test_split\n",
    "from sklearn.preprocessing import StandardScaler\n",
    "from sklearn.metrics import accuracy_score\n",
    "import pandas as pd\n",
    "from collections import deque\n",
    "from sklearn.neighbors import KNeighborsClassifier\n",
    "from sklearn.preprocessing import StandardScaler\n",
    "from sklearn.neighbors import KNeighborsClassifier\n",
    "from sklearn.model_selection import train_test_split\n",
    "from sklearn.preprocessing import StandardScaler\n",
    "from sklearn.metrics import accuracy_score\n",
    "import pandas as pd\n",
    "from tensorflow.keras.utils import to_categorical\n",
    "from tqdm import tqdm"
   ]
  },
  {
   "cell_type": "code",
   "execution_count": 13,
   "metadata": {},
   "outputs": [],
   "source": [
    "file_path = 'cf_train.csv'\n",
    "file_path_test = 'cf_test.csv'\n",
    "data = pd.read_csv(file_path)\n",
    "data_test = pd.read_csv(file_path_test)"
   ]
  },
  {
   "cell_type": "code",
   "execution_count": 14,
   "metadata": {},
   "outputs": [],
   "source": [
    "unnecessary_columns = ['row_num', 'day', 'era', 'target_10_val', 'target_5_val', 'sigma', 'day_no']\n",
    "# Train\n",
    "X_train = data.drop(columns=unnecessary_columns)\n",
    "y_train = data['target_10_val']\n",
    "y_train = to_categorical((y_train*4).astype(int))\n",
    "scaler = StandardScaler()\n",
    "X_train = scaler.fit_transform(X_train)\n",
    "\n",
    "# Test\n",
    "X_test = data_test.drop(columns=unnecessary_columns)\n",
    "X_test = scaler.transform(X_test)\n",
    "y_test = to_categorical((data_test['target_10_val']*4).astype(int))"
   ]
  },
  {
   "cell_type": "code",
   "execution_count": 15,
   "metadata": {},
   "outputs": [],
   "source": [
    "class SlidingWindowKNN:\n",
    "    def __init__(self, window_size, n_neighbors):\n",
    "        self.window_size = window_size\n",
    "        self.n_neighbors = n_neighbors\n",
    "        self.scaler = StandardScaler()\n",
    "        self.knn = KNeighborsClassifier(n_neighbors=n_neighbors)\n",
    "        self.window = deque(maxlen=window_size)\n",
    "    \n",
    "    def fit(self, X, y):\n",
    "        X_scaled = self.scaler.fit_transform(X)\n",
    "        self.knn.fit(X_scaled, y)\n",
    "    \n",
    "    def partial_fit(self, X_new, y_new):\n",
    "        self.window.append((X_new, y_new))\n",
    "        if len(self.window) == self.window_size:\n",
    "            X_window, y_window = zip(*self.window)\n",
    "            X_window_scaled = self.scaler.transform(X_window)\n",
    "            self.knn.fit(X_window_scaled, y_window)\n",
    "    \n",
    "    def predict(self, X):\n",
    "        X_scaled = self.scaler.transform(X)\n",
    "        return self.knn.predict(X_scaled)"
   ]
  },
  {
   "cell_type": "code",
   "execution_count": 16,
   "metadata": {},
   "outputs": [],
   "source": [
    "window_size = 1000\n",
    "n_neighbors = 15\n",
    "model = SlidingWindowKNN(window_size, n_neighbors)\n",
    "model.fit(X_train[:window_size], y_train[:window_size])"
   ]
  },
  {
   "cell_type": "code",
   "execution_count": 17,
   "metadata": {},
   "outputs": [
    {
     "name": "stderr",
     "output_type": "stream",
     "text": [
      " 15%|█▍        | 9084/61400 [00:18<09:36, 90.77it/s] "
     ]
    },
    {
     "name": "stdout",
     "output_type": "stream",
     "text": [
      "Accuracy at 10000 is 24.403846153846153%\n"
     ]
    },
    {
     "name": "stderr",
     "output_type": "stream",
     "text": [
      " 31%|███       | 19052/61400 [00:40<08:10, 86.26it/s] "
     ]
    },
    {
     "name": "stdout",
     "output_type": "stream",
     "text": [
      "Accuracy at 20000 is 22.253205128205128%\n"
     ]
    },
    {
     "name": "stderr",
     "output_type": "stream",
     "text": [
      " 47%|████▋     | 29052/61400 [01:01<08:20, 64.64it/s] "
     ]
    },
    {
     "name": "stdout",
     "output_type": "stream",
     "text": [
      "Accuracy at 30000 is 28.108974358974358%\n"
     ]
    },
    {
     "name": "stderr",
     "output_type": "stream",
     "text": [
      " 64%|██████▎   | 39089/61400 [01:23<04:13, 88.08it/s] "
     ]
    },
    {
     "name": "stdout",
     "output_type": "stream",
     "text": [
      "Accuracy at 40000 is 26.940705128205128%\n"
     ]
    },
    {
     "name": "stderr",
     "output_type": "stream",
     "text": [
      " 80%|███████▉  | 49067/61400 [01:43<02:13, 92.07it/s] "
     ]
    },
    {
     "name": "stdout",
     "output_type": "stream",
     "text": [
      "Accuracy at 50000 is 23.64102564102564%\n"
     ]
    },
    {
     "name": "stderr",
     "output_type": "stream",
     "text": [
      " 96%|█████████▋| 59103/61400 [02:05<00:26, 86.89it/s] "
     ]
    },
    {
     "name": "stdout",
     "output_type": "stream",
     "text": [
      "Accuracy at 60000 is 23.110576923076923%\n"
     ]
    },
    {
     "name": "stderr",
     "output_type": "stream",
     "text": [
      "100%|██████████| 61400/61400 [02:09<00:00, 475.14it/s]\n"
     ]
    }
   ],
   "source": [
    "for i in tqdm(range(window_size, len(X_train))):\n",
    "    X_new = X_train[i:i+1][0]  \n",
    "    y_new = y_train[i:i+1][0]\n",
    "    model.partial_fit(X_new, y_new)\n",
    "    y_pred = model.predict([X_new])\n",
    "\n",
    "    if i % 10000 == 0:\n",
    "        y_pred = model.predict(X_test)\n",
    "        accuracy = accuracy_score(y_test, y_pred)\n",
    "        print(f'Accuracy at {i} is {accuracy*100}%')"
   ]
  },
  {
   "cell_type": "markdown",
   "metadata": {},
   "source": [
    "#### Noisy date (Results)"
   ]
  },
  {
   "cell_type": "code",
   "execution_count": 18,
   "metadata": {},
   "outputs": [
    {
     "name": "stdout",
     "output_type": "stream",
     "text": [
      "Testing Accuracy: 22.38%\n"
     ]
    }
   ],
   "source": [
    "y_pred = model.predict(X_test)\n",
    "accuracy = accuracy_score(y_test, y_pred)\n",
    "print(f\"Testing Accuracy: {accuracy * 100:.2f}%\")"
   ]
  },
  {
   "cell_type": "code",
   "execution_count": null,
   "metadata": {},
   "outputs": [],
   "source": []
  }
 ],
 "metadata": {
  "kernelspec": {
   "display_name": "Python 3",
   "language": "python",
   "name": "python3"
  },
  "language_info": {
   "codemirror_mode": {
    "name": "ipython",
    "version": 3
   },
   "file_extension": ".py",
   "mimetype": "text/x-python",
   "name": "python",
   "nbconvert_exporter": "python",
   "pygments_lexer": "ipython3",
   "version": "3.9.15"
  }
 },
 "nbformat": 4,
 "nbformat_minor": 2
}
