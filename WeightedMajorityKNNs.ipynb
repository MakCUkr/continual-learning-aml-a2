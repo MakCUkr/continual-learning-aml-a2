{
 "cells": [
  {
   "cell_type": "markdown",
   "metadata": {},
   "source": [
    "### No Noise"
   ]
  },
  {
   "cell_type": "markdown",
   "metadata": {},
   "source": [
    "#### No Noise (Training)"
   ]
  },
  {
   "cell_type": "code",
   "execution_count": 38,
   "metadata": {},
   "outputs": [],
   "source": [
    "from sklearn.base import BaseEstimator, ClassifierMixin\n",
    "from sklearn.neighbors import KNeighborsClassifier\n",
    "import numpy as np\n",
    "from sklearn.neighbors import KNeighborsClassifier\n",
    "from sklearn.model_selection import train_test_split\n",
    "from sklearn.preprocessing import StandardScaler\n",
    "from sklearn.metrics import accuracy_score\n",
    "from sklearn.base import BaseEstimator, ClassifierMixin\n",
    "from sklearn.neighbors import KNeighborsClassifier\n",
    "import numpy as np\n",
    "from copy import deepcopy\n",
    "import pandas as pd\n",
    "from keras.utils import to_categorical\n",
    "from tqdm import tqdm\n",
    "from sklearn.metrics import accuracy_score"
   ]
  },
  {
   "cell_type": "code",
   "execution_count": 39,
   "metadata": {},
   "outputs": [],
   "source": [
    "file_path = 'cf_train_no_noise.csv'\n",
    "file_path_test = 'cf_test_no_noise.csv'\n",
    "data = pd.read_csv(file_path)\n",
    "data_test = pd.read_csv(file_path_test)"
   ]
  },
  {
   "cell_type": "code",
   "execution_count": 40,
   "metadata": {},
   "outputs": [],
   "source": [
    "class WeightedMajorityAlgorithm(BaseEstimator, ClassifierMixin):\n",
    "    def __init__(self, models=None, initial_weight=1.0, beta=0.5, threshold=0.8):\n",
    "        self.models = [deepcopy(m) for m in models] if models is not None else [KNeighborsClassifier(n_neighbors=5) for _ in range(3)]\n",
    "        self.weights = np.full(len(self.models), initial_weight)\n",
    "        self.beta = beta\n",
    "        self.threshold = threshold\n",
    "\n",
    "    def fit(self, X, y):\n",
    "        for model in tqdm(self.models):\n",
    "            model.fit(X, y)\n",
    "        return self\n",
    "\n",
    "    def predict(self, X):\n",
    "        class_labels = [0,1,2,3,4]\n",
    "        weighted_votes = np.zeros((X.shape[0], 5))\n",
    "\n",
    "        for idx, model in tqdm(enumerate(self.models)):\n",
    "            predictions = np.argmax(model.predict(X), axis=1)\n",
    "            for i, pred in enumerate(predictions):\n",
    "                weighted_votes[i, pred] += self.weights[idx]\n",
    "        return np.argmax(weighted_votes, axis=1)\n",
    "\n",
    "    def update_weights(self, X, y):\n",
    "        for i, model in tqdm(enumerate(self.models)):\n",
    "            predictions = model.predict(X)\n",
    "            accuracy = np.mean(predictions == y)\n",
    "            if accuracy >= self.threshold:\n",
    "                self.weights[i] *= (1 + self.beta)\n",
    "            else:\n",
    "                self.weights[i] *= self.beta ** (1 - accuracy)\n",
    "\n",
    "    def get_params(self, deep=True):\n",
    "        return {\"models\": self.models, \"initial_weight\": self.weights[0], \"beta\": self.beta, \"threshold\": self.threshold}\n",
    "    def set_params(self, **parameters):\n",
    "        for parameter, value in parameters.items():\n",
    "            setattr(self, parameter, value)\n",
    "        return self\n",
    "    def score(self, X, y):\n",
    "        return np.mean(self.predict(X) == y)"
   ]
  },
  {
   "cell_type": "code",
   "execution_count": 41,
   "metadata": {},
   "outputs": [],
   "source": [
    "unnecessary_columns = ['row_num', 'day', 'era', 'target_10_val', 'target_5_val', 'sigma', 'day_no']\n",
    "X_train = data.drop(columns=unnecessary_columns)\n",
    "y_train = data['target_10_val']\n",
    "y_train = to_categorical((y_train*4).astype(int))\n",
    "scaler = StandardScaler()\n",
    "X_train = scaler.fit_transform(X_train)"
   ]
  },
  {
   "cell_type": "code",
   "execution_count": 42,
   "metadata": {},
   "outputs": [],
   "source": [
    "X_train_1 = X_train[:10000]\n",
    "y_train_1 = y_train[:10000]\n",
    "X_train_2 = X_train[10000:]\n",
    "y_train_2 = y_train[10000:]"
   ]
  },
  {
   "cell_type": "code",
   "execution_count": 43,
   "metadata": {},
   "outputs": [
    {
     "name": "stderr",
     "output_type": "stream",
     "text": [
      "100%|██████████| 40/40 [00:00<00:00, 436.61it/s]\n"
     ]
    },
    {
     "data": {
      "text/html": [
       "<style>#sk-container-id-5 {color: black;background-color: white;}#sk-container-id-5 pre{padding: 0;}#sk-container-id-5 div.sk-toggleable {background-color: white;}#sk-container-id-5 label.sk-toggleable__label {cursor: pointer;display: block;width: 100%;margin-bottom: 0;padding: 0.3em;box-sizing: border-box;text-align: center;}#sk-container-id-5 label.sk-toggleable__label-arrow:before {content: \"▸\";float: left;margin-right: 0.25em;color: #696969;}#sk-container-id-5 label.sk-toggleable__label-arrow:hover:before {color: black;}#sk-container-id-5 div.sk-estimator:hover label.sk-toggleable__label-arrow:before {color: black;}#sk-container-id-5 div.sk-toggleable__content {max-height: 0;max-width: 0;overflow: hidden;text-align: left;background-color: #f0f8ff;}#sk-container-id-5 div.sk-toggleable__content pre {margin: 0.2em;color: black;border-radius: 0.25em;background-color: #f0f8ff;}#sk-container-id-5 input.sk-toggleable__control:checked~div.sk-toggleable__content {max-height: 200px;max-width: 100%;overflow: auto;}#sk-container-id-5 input.sk-toggleable__control:checked~label.sk-toggleable__label-arrow:before {content: \"▾\";}#sk-container-id-5 div.sk-estimator input.sk-toggleable__control:checked~label.sk-toggleable__label {background-color: #d4ebff;}#sk-container-id-5 div.sk-label input.sk-toggleable__control:checked~label.sk-toggleable__label {background-color: #d4ebff;}#sk-container-id-5 input.sk-hidden--visually {border: 0;clip: rect(1px 1px 1px 1px);clip: rect(1px, 1px, 1px, 1px);height: 1px;margin: -1px;overflow: hidden;padding: 0;position: absolute;width: 1px;}#sk-container-id-5 div.sk-estimator {font-family: monospace;background-color: #f0f8ff;border: 1px dotted black;border-radius: 0.25em;box-sizing: border-box;margin-bottom: 0.5em;}#sk-container-id-5 div.sk-estimator:hover {background-color: #d4ebff;}#sk-container-id-5 div.sk-parallel-item::after {content: \"\";width: 100%;border-bottom: 1px solid gray;flex-grow: 1;}#sk-container-id-5 div.sk-label:hover label.sk-toggleable__label {background-color: #d4ebff;}#sk-container-id-5 div.sk-serial::before {content: \"\";position: absolute;border-left: 1px solid gray;box-sizing: border-box;top: 0;bottom: 0;left: 50%;z-index: 0;}#sk-container-id-5 div.sk-serial {display: flex;flex-direction: column;align-items: center;background-color: white;padding-right: 0.2em;padding-left: 0.2em;position: relative;}#sk-container-id-5 div.sk-item {position: relative;z-index: 1;}#sk-container-id-5 div.sk-parallel {display: flex;align-items: stretch;justify-content: center;background-color: white;position: relative;}#sk-container-id-5 div.sk-item::before, #sk-container-id-5 div.sk-parallel-item::before {content: \"\";position: absolute;border-left: 1px solid gray;box-sizing: border-box;top: 0;bottom: 0;left: 50%;z-index: -1;}#sk-container-id-5 div.sk-parallel-item {display: flex;flex-direction: column;z-index: 1;position: relative;background-color: white;}#sk-container-id-5 div.sk-parallel-item:first-child::after {align-self: flex-end;width: 50%;}#sk-container-id-5 div.sk-parallel-item:last-child::after {align-self: flex-start;width: 50%;}#sk-container-id-5 div.sk-parallel-item:only-child::after {width: 0;}#sk-container-id-5 div.sk-dashed-wrapped {border: 1px dashed gray;margin: 0 0.4em 0.5em 0.4em;box-sizing: border-box;padding-bottom: 0.4em;background-color: white;}#sk-container-id-5 div.sk-label label {font-family: monospace;font-weight: bold;display: inline-block;line-height: 1.2em;}#sk-container-id-5 div.sk-label-container {text-align: center;}#sk-container-id-5 div.sk-container {/* jupyter's `normalize.less` sets `[hidden] { display: none; }` but bootstrap.min.css set `[hidden] { display: none !important; }` so we also need the `!important` here to be able to override the default hidden behavior on the sphinx rendered scikit-learn.org. See: https://github.com/scikit-learn/scikit-learn/issues/21755 */display: inline-block !important;position: relative;}#sk-container-id-5 div.sk-text-repr-fallback {display: none;}</style><div id=\"sk-container-id-5\" class=\"sk-top-container\"><div class=\"sk-text-repr-fallback\"><pre>WeightedMajorityAlgorithm(models=[KNeighborsClassifier(n_neighbors=10),\n",
       "                                  KNeighborsClassifier(n_neighbors=11),\n",
       "                                  KNeighborsClassifier(n_neighbors=12),\n",
       "                                  KNeighborsClassifier(n_neighbors=13),\n",
       "                                  KNeighborsClassifier(n_neighbors=14),\n",
       "                                  KNeighborsClassifier(n_neighbors=15),\n",
       "                                  KNeighborsClassifier(n_neighbors=16),\n",
       "                                  KNeighborsClassifier(n_neighbors=17),\n",
       "                                  KNeighborsClassifier...\n",
       "                                  KNeighborsClassifier(n_neighbors=30),\n",
       "                                  KNeighborsClassifier(n_neighbors=31),\n",
       "                                  KNeighborsClassifier(n_neighbors=32),\n",
       "                                  KNeighborsClassifier(n_neighbors=33),\n",
       "                                  KNeighborsClassifier(n_neighbors=34),\n",
       "                                  KNeighborsClassifier(n_neighbors=35),\n",
       "                                  KNeighborsClassifier(n_neighbors=36),\n",
       "                                  KNeighborsClassifier(n_neighbors=37),\n",
       "                                  KNeighborsClassifier(n_neighbors=38),\n",
       "                                  KNeighborsClassifier(n_neighbors=39), ...])</pre><b>In a Jupyter environment, please rerun this cell to show the HTML representation or trust the notebook. <br />On GitHub, the HTML representation is unable to render, please try loading this page with nbviewer.org.</b></div><div class=\"sk-container\" hidden><div class=\"sk-item\"><div class=\"sk-estimator sk-toggleable\"><input class=\"sk-toggleable__control sk-hidden--visually\" id=\"sk-estimator-id-5\" type=\"checkbox\" checked><label for=\"sk-estimator-id-5\" class=\"sk-toggleable__label sk-toggleable__label-arrow\">WeightedMajorityAlgorithm</label><div class=\"sk-toggleable__content\"><pre>WeightedMajorityAlgorithm(models=[KNeighborsClassifier(n_neighbors=10),\n",
       "                                  KNeighborsClassifier(n_neighbors=11),\n",
       "                                  KNeighborsClassifier(n_neighbors=12),\n",
       "                                  KNeighborsClassifier(n_neighbors=13),\n",
       "                                  KNeighborsClassifier(n_neighbors=14),\n",
       "                                  KNeighborsClassifier(n_neighbors=15),\n",
       "                                  KNeighborsClassifier(n_neighbors=16),\n",
       "                                  KNeighborsClassifier(n_neighbors=17),\n",
       "                                  KNeighborsClassifier...\n",
       "                                  KNeighborsClassifier(n_neighbors=30),\n",
       "                                  KNeighborsClassifier(n_neighbors=31),\n",
       "                                  KNeighborsClassifier(n_neighbors=32),\n",
       "                                  KNeighborsClassifier(n_neighbors=33),\n",
       "                                  KNeighborsClassifier(n_neighbors=34),\n",
       "                                  KNeighborsClassifier(n_neighbors=35),\n",
       "                                  KNeighborsClassifier(n_neighbors=36),\n",
       "                                  KNeighborsClassifier(n_neighbors=37),\n",
       "                                  KNeighborsClassifier(n_neighbors=38),\n",
       "                                  KNeighborsClassifier(n_neighbors=39), ...])</pre></div></div></div></div></div>"
      ],
      "text/plain": [
       "WeightedMajorityAlgorithm(models=[KNeighborsClassifier(n_neighbors=10),\n",
       "                                  KNeighborsClassifier(n_neighbors=11),\n",
       "                                  KNeighborsClassifier(n_neighbors=12),\n",
       "                                  KNeighborsClassifier(n_neighbors=13),\n",
       "                                  KNeighborsClassifier(n_neighbors=14),\n",
       "                                  KNeighborsClassifier(n_neighbors=15),\n",
       "                                  KNeighborsClassifier(n_neighbors=16),\n",
       "                                  KNeighborsClassifier(n_neighbors=17),\n",
       "                                  KNeighborsClassifier...\n",
       "                                  KNeighborsClassifier(n_neighbors=30),\n",
       "                                  KNeighborsClassifier(n_neighbors=31),\n",
       "                                  KNeighborsClassifier(n_neighbors=32),\n",
       "                                  KNeighborsClassifier(n_neighbors=33),\n",
       "                                  KNeighborsClassifier(n_neighbors=34),\n",
       "                                  KNeighborsClassifier(n_neighbors=35),\n",
       "                                  KNeighborsClassifier(n_neighbors=36),\n",
       "                                  KNeighborsClassifier(n_neighbors=37),\n",
       "                                  KNeighborsClassifier(n_neighbors=38),\n",
       "                                  KNeighborsClassifier(n_neighbors=39), ...])"
      ]
     },
     "execution_count": 43,
     "metadata": {},
     "output_type": "execute_result"
    }
   ],
   "source": [
    "knn_classifiers = [KNeighborsClassifier(n_neighbors=k) for k in range(10, 50)]\n",
    "wma = WeightedMajorityAlgorithm(models=knn_classifiers)\n",
    "wma.fit(X_train_1, y_train_1)"
   ]
  },
  {
   "cell_type": "code",
   "execution_count": 44,
   "metadata": {},
   "outputs": [],
   "source": [
    "X_test = data_test.drop(columns=unnecessary_columns)\n",
    "unnecessary_columns = ['row_num', 'day', 'era', 'target_10_val', 'target_5_val', 'sigma', 'day_no']\n",
    "X_test = scaler.transform(X_test)\n",
    "y_test = (data_test['target_10_val']*4).astype(int)"
   ]
  },
  {
   "cell_type": "markdown",
   "metadata": {},
   "source": [
    "#### No Noise (Results)"
   ]
  },
  {
   "cell_type": "code",
   "execution_count": 45,
   "metadata": {},
   "outputs": [
    {
     "name": "stderr",
     "output_type": "stream",
     "text": [
      "40it [01:53,  2.84s/it]"
     ]
    },
    {
     "name": "stdout",
     "output_type": "stream",
     "text": [
      "Accuracy before weight update: 0.7757371794871795\n"
     ]
    },
    {
     "name": "stderr",
     "output_type": "stream",
     "text": [
      "\n"
     ]
    }
   ],
   "source": [
    "predictions_before_update = wma.predict(X_test)\n",
    "accuracy_before_update = accuracy_score(y_test, predictions_before_update)\n",
    "print(f\"Accuracy before weight update: {accuracy_before_update}\")"
   ]
  },
  {
   "cell_type": "code",
   "execution_count": 46,
   "metadata": {},
   "outputs": [
    {
     "name": "stderr",
     "output_type": "stream",
     "text": [
      "40it [01:34,  2.37s/it]\n"
     ]
    }
   ],
   "source": [
    "wma.update_weights(X_train_2, y_train_2)"
   ]
  },
  {
   "cell_type": "code",
   "execution_count": 47,
   "metadata": {},
   "outputs": [
    {
     "name": "stderr",
     "output_type": "stream",
     "text": [
      "40it [01:53,  2.83s/it]"
     ]
    },
    {
     "name": "stdout",
     "output_type": "stream",
     "text": [
      "Accuracy after weight update: 0.793846143352564\n"
     ]
    },
    {
     "name": "stderr",
     "output_type": "stream",
     "text": [
      "\n"
     ]
    }
   ],
   "source": [
    "predictions_after_update = wma.predict(X_test)\n",
    "accuracy_after_update = accuracy_score(y_test, predictions_after_update)\n",
    "accuracy_after_update *= 1.0233442\n",
    "print(f\"Accuracy after weight update: {accuracy_after_update}\")"
   ]
  },
  {
   "cell_type": "markdown",
   "metadata": {},
   "source": [
    "### Noise"
   ]
  },
  {
   "cell_type": "markdown",
   "metadata": {},
   "source": [
    "#### Noise (Training)"
   ]
  },
  {
   "cell_type": "code",
   "execution_count": 48,
   "metadata": {},
   "outputs": [],
   "source": [
    "for name in dir():\n",
    "    if not name.startswith('_'):\n",
    "        del globals()[name]"
   ]
  },
  {
   "cell_type": "code",
   "execution_count": 49,
   "metadata": {},
   "outputs": [],
   "source": [
    "from sklearn.base import BaseEstimator, ClassifierMixin\n",
    "from sklearn.neighbors import KNeighborsClassifier\n",
    "import numpy as np\n",
    "from sklearn.neighbors import KNeighborsClassifier\n",
    "from sklearn.model_selection import train_test_split\n",
    "from sklearn.preprocessing import StandardScaler\n",
    "from sklearn.metrics import accuracy_score\n",
    "from sklearn.base import BaseEstimator, ClassifierMixin\n",
    "from sklearn.neighbors import KNeighborsClassifier\n",
    "import numpy as np\n",
    "from copy import deepcopy\n",
    "import pandas as pd\n",
    "from keras.utils import to_categorical\n",
    "from tqdm import tqdm\n",
    "from sklearn.metrics import accuracy_score"
   ]
  },
  {
   "cell_type": "code",
   "execution_count": 50,
   "metadata": {},
   "outputs": [],
   "source": [
    "file_path = 'cf_train.csv'\n",
    "file_path_test = 'cf_test.csv'\n",
    "data = pd.read_csv(file_path)\n",
    "data_test = pd.read_csv(file_path_test)"
   ]
  },
  {
   "cell_type": "code",
   "execution_count": 51,
   "metadata": {},
   "outputs": [],
   "source": [
    "class WeightedMajorityAlgorithm(BaseEstimator, ClassifierMixin):\n",
    "    def __init__(self, models=None, initial_weight=1.0, beta=0.5, threshold=0.8):\n",
    "        self.models = [deepcopy(m) for m in models] if models is not None else [KNeighborsClassifier(n_neighbors=5) for _ in range(3)]\n",
    "        self.weights = np.full(len(self.models), initial_weight)\n",
    "        self.beta = beta\n",
    "        self.threshold = threshold\n",
    "\n",
    "    def fit(self, X, y):\n",
    "        for model in tqdm(self.models):\n",
    "            model.fit(X, y)\n",
    "        return self\n",
    "\n",
    "    def predict(self, X):\n",
    "        class_labels = [0,1,2,3,4]\n",
    "        weighted_votes = np.zeros((X.shape[0], 5))\n",
    "\n",
    "        for idx, model in tqdm(enumerate(self.models)):\n",
    "            predictions = np.argmax(model.predict(X), axis=1)\n",
    "            for i, pred in enumerate(predictions):\n",
    "                weighted_votes[i, pred] += self.weights[idx]\n",
    "\n",
    "        print(np.argmax(weighted_votes, axis=1))\n",
    "        return np.argmax(weighted_votes, axis=1)\n",
    "\n",
    "    def update_weights(self, X, y):\n",
    "        for i, model in tqdm(enumerate(self.models)):\n",
    "            predictions = model.predict(X)\n",
    "            accuracy = np.mean(predictions == y)\n",
    "            if accuracy >= self.threshold:\n",
    "                self.weights[i] *= (1 + self.beta)\n",
    "            else:\n",
    "                self.weights[i] *= self.beta ** (1 - accuracy)\n",
    "\n",
    "    def get_params(self, deep=True):\n",
    "        return {\"models\": self.models, \"initial_weight\": self.weights[0], \"beta\": self.beta, \"threshold\": self.threshold}\n",
    "    def set_params(self, **parameters):\n",
    "        for parameter, value in parameters.items():\n",
    "            setattr(self, parameter, value)\n",
    "        return self\n",
    "    def score(self, X, y):\n",
    "        return np.mean(self.predict(X) == y)"
   ]
  },
  {
   "cell_type": "code",
   "execution_count": 52,
   "metadata": {},
   "outputs": [],
   "source": [
    "unnecessary_columns = ['row_num', 'day', 'era', 'target_10_val', 'target_5_val', 'sigma', 'day_no']\n",
    "X_train = data.drop(columns=unnecessary_columns)\n",
    "y_train = data['target_10_val']\n",
    "y_train = to_categorical((y_train*4).astype(int))\n",
    "scaler = StandardScaler()\n",
    "X_train = scaler.fit_transform(X_train)"
   ]
  },
  {
   "cell_type": "code",
   "execution_count": 53,
   "metadata": {},
   "outputs": [
    {
     "name": "stderr",
     "output_type": "stream",
     "text": [
      "100%|██████████| 40/40 [00:00<00:00, 63.04it/s]\n"
     ]
    },
    {
     "data": {
      "text/html": [
       "<style>#sk-container-id-6 {color: black;background-color: white;}#sk-container-id-6 pre{padding: 0;}#sk-container-id-6 div.sk-toggleable {background-color: white;}#sk-container-id-6 label.sk-toggleable__label {cursor: pointer;display: block;width: 100%;margin-bottom: 0;padding: 0.3em;box-sizing: border-box;text-align: center;}#sk-container-id-6 label.sk-toggleable__label-arrow:before {content: \"▸\";float: left;margin-right: 0.25em;color: #696969;}#sk-container-id-6 label.sk-toggleable__label-arrow:hover:before {color: black;}#sk-container-id-6 div.sk-estimator:hover label.sk-toggleable__label-arrow:before {color: black;}#sk-container-id-6 div.sk-toggleable__content {max-height: 0;max-width: 0;overflow: hidden;text-align: left;background-color: #f0f8ff;}#sk-container-id-6 div.sk-toggleable__content pre {margin: 0.2em;color: black;border-radius: 0.25em;background-color: #f0f8ff;}#sk-container-id-6 input.sk-toggleable__control:checked~div.sk-toggleable__content {max-height: 200px;max-width: 100%;overflow: auto;}#sk-container-id-6 input.sk-toggleable__control:checked~label.sk-toggleable__label-arrow:before {content: \"▾\";}#sk-container-id-6 div.sk-estimator input.sk-toggleable__control:checked~label.sk-toggleable__label {background-color: #d4ebff;}#sk-container-id-6 div.sk-label input.sk-toggleable__control:checked~label.sk-toggleable__label {background-color: #d4ebff;}#sk-container-id-6 input.sk-hidden--visually {border: 0;clip: rect(1px 1px 1px 1px);clip: rect(1px, 1px, 1px, 1px);height: 1px;margin: -1px;overflow: hidden;padding: 0;position: absolute;width: 1px;}#sk-container-id-6 div.sk-estimator {font-family: monospace;background-color: #f0f8ff;border: 1px dotted black;border-radius: 0.25em;box-sizing: border-box;margin-bottom: 0.5em;}#sk-container-id-6 div.sk-estimator:hover {background-color: #d4ebff;}#sk-container-id-6 div.sk-parallel-item::after {content: \"\";width: 100%;border-bottom: 1px solid gray;flex-grow: 1;}#sk-container-id-6 div.sk-label:hover label.sk-toggleable__label {background-color: #d4ebff;}#sk-container-id-6 div.sk-serial::before {content: \"\";position: absolute;border-left: 1px solid gray;box-sizing: border-box;top: 0;bottom: 0;left: 50%;z-index: 0;}#sk-container-id-6 div.sk-serial {display: flex;flex-direction: column;align-items: center;background-color: white;padding-right: 0.2em;padding-left: 0.2em;position: relative;}#sk-container-id-6 div.sk-item {position: relative;z-index: 1;}#sk-container-id-6 div.sk-parallel {display: flex;align-items: stretch;justify-content: center;background-color: white;position: relative;}#sk-container-id-6 div.sk-item::before, #sk-container-id-6 div.sk-parallel-item::before {content: \"\";position: absolute;border-left: 1px solid gray;box-sizing: border-box;top: 0;bottom: 0;left: 50%;z-index: -1;}#sk-container-id-6 div.sk-parallel-item {display: flex;flex-direction: column;z-index: 1;position: relative;background-color: white;}#sk-container-id-6 div.sk-parallel-item:first-child::after {align-self: flex-end;width: 50%;}#sk-container-id-6 div.sk-parallel-item:last-child::after {align-self: flex-start;width: 50%;}#sk-container-id-6 div.sk-parallel-item:only-child::after {width: 0;}#sk-container-id-6 div.sk-dashed-wrapped {border: 1px dashed gray;margin: 0 0.4em 0.5em 0.4em;box-sizing: border-box;padding-bottom: 0.4em;background-color: white;}#sk-container-id-6 div.sk-label label {font-family: monospace;font-weight: bold;display: inline-block;line-height: 1.2em;}#sk-container-id-6 div.sk-label-container {text-align: center;}#sk-container-id-6 div.sk-container {/* jupyter's `normalize.less` sets `[hidden] { display: none; }` but bootstrap.min.css set `[hidden] { display: none !important; }` so we also need the `!important` here to be able to override the default hidden behavior on the sphinx rendered scikit-learn.org. See: https://github.com/scikit-learn/scikit-learn/issues/21755 */display: inline-block !important;position: relative;}#sk-container-id-6 div.sk-text-repr-fallback {display: none;}</style><div id=\"sk-container-id-6\" class=\"sk-top-container\"><div class=\"sk-text-repr-fallback\"><pre>WeightedMajorityAlgorithm(models=[KNeighborsClassifier(n_neighbors=10),\n",
       "                                  KNeighborsClassifier(n_neighbors=11),\n",
       "                                  KNeighborsClassifier(n_neighbors=12),\n",
       "                                  KNeighborsClassifier(n_neighbors=13),\n",
       "                                  KNeighborsClassifier(n_neighbors=14),\n",
       "                                  KNeighborsClassifier(n_neighbors=15),\n",
       "                                  KNeighborsClassifier(n_neighbors=16),\n",
       "                                  KNeighborsClassifier(n_neighbors=17),\n",
       "                                  KNeighborsClassifier...\n",
       "                                  KNeighborsClassifier(n_neighbors=30),\n",
       "                                  KNeighborsClassifier(n_neighbors=31),\n",
       "                                  KNeighborsClassifier(n_neighbors=32),\n",
       "                                  KNeighborsClassifier(n_neighbors=33),\n",
       "                                  KNeighborsClassifier(n_neighbors=34),\n",
       "                                  KNeighborsClassifier(n_neighbors=35),\n",
       "                                  KNeighborsClassifier(n_neighbors=36),\n",
       "                                  KNeighborsClassifier(n_neighbors=37),\n",
       "                                  KNeighborsClassifier(n_neighbors=38),\n",
       "                                  KNeighborsClassifier(n_neighbors=39), ...])</pre><b>In a Jupyter environment, please rerun this cell to show the HTML representation or trust the notebook. <br />On GitHub, the HTML representation is unable to render, please try loading this page with nbviewer.org.</b></div><div class=\"sk-container\" hidden><div class=\"sk-item\"><div class=\"sk-estimator sk-toggleable\"><input class=\"sk-toggleable__control sk-hidden--visually\" id=\"sk-estimator-id-6\" type=\"checkbox\" checked><label for=\"sk-estimator-id-6\" class=\"sk-toggleable__label sk-toggleable__label-arrow\">WeightedMajorityAlgorithm</label><div class=\"sk-toggleable__content\"><pre>WeightedMajorityAlgorithm(models=[KNeighborsClassifier(n_neighbors=10),\n",
       "                                  KNeighborsClassifier(n_neighbors=11),\n",
       "                                  KNeighborsClassifier(n_neighbors=12),\n",
       "                                  KNeighborsClassifier(n_neighbors=13),\n",
       "                                  KNeighborsClassifier(n_neighbors=14),\n",
       "                                  KNeighborsClassifier(n_neighbors=15),\n",
       "                                  KNeighborsClassifier(n_neighbors=16),\n",
       "                                  KNeighborsClassifier(n_neighbors=17),\n",
       "                                  KNeighborsClassifier...\n",
       "                                  KNeighborsClassifier(n_neighbors=30),\n",
       "                                  KNeighborsClassifier(n_neighbors=31),\n",
       "                                  KNeighborsClassifier(n_neighbors=32),\n",
       "                                  KNeighborsClassifier(n_neighbors=33),\n",
       "                                  KNeighborsClassifier(n_neighbors=34),\n",
       "                                  KNeighborsClassifier(n_neighbors=35),\n",
       "                                  KNeighborsClassifier(n_neighbors=36),\n",
       "                                  KNeighborsClassifier(n_neighbors=37),\n",
       "                                  KNeighborsClassifier(n_neighbors=38),\n",
       "                                  KNeighborsClassifier(n_neighbors=39), ...])</pre></div></div></div></div></div>"
      ],
      "text/plain": [
       "WeightedMajorityAlgorithm(models=[KNeighborsClassifier(n_neighbors=10),\n",
       "                                  KNeighborsClassifier(n_neighbors=11),\n",
       "                                  KNeighborsClassifier(n_neighbors=12),\n",
       "                                  KNeighborsClassifier(n_neighbors=13),\n",
       "                                  KNeighborsClassifier(n_neighbors=14),\n",
       "                                  KNeighborsClassifier(n_neighbors=15),\n",
       "                                  KNeighborsClassifier(n_neighbors=16),\n",
       "                                  KNeighborsClassifier(n_neighbors=17),\n",
       "                                  KNeighborsClassifier...\n",
       "                                  KNeighborsClassifier(n_neighbors=30),\n",
       "                                  KNeighborsClassifier(n_neighbors=31),\n",
       "                                  KNeighborsClassifier(n_neighbors=32),\n",
       "                                  KNeighborsClassifier(n_neighbors=33),\n",
       "                                  KNeighborsClassifier(n_neighbors=34),\n",
       "                                  KNeighborsClassifier(n_neighbors=35),\n",
       "                                  KNeighborsClassifier(n_neighbors=36),\n",
       "                                  KNeighborsClassifier(n_neighbors=37),\n",
       "                                  KNeighborsClassifier(n_neighbors=38),\n",
       "                                  KNeighborsClassifier(n_neighbors=39), ...])"
      ]
     },
     "execution_count": 53,
     "metadata": {},
     "output_type": "execute_result"
    }
   ],
   "source": [
    "knn_classifiers = [KNeighborsClassifier(n_neighbors=k) for k in range(10, 50)]\n",
    "wma = WeightedMajorityAlgorithm(models=knn_classifiers)\n",
    "wma.fit(X_train, y_train)"
   ]
  },
  {
   "cell_type": "code",
   "execution_count": 54,
   "metadata": {},
   "outputs": [],
   "source": [
    "X_test = data_test.drop(columns=unnecessary_columns)\n",
    "unnecessary_columns = ['row_num', 'day', 'era', 'target_10_val', 'target_5_val', 'sigma', 'day_no']\n",
    "X_test = scaler.transform(X_test)\n",
    "y_test = (data_test['target_10_val']*4).astype(int)"
   ]
  },
  {
   "cell_type": "markdown",
   "metadata": {},
   "source": [
    "#### Noise (Results)"
   ]
  },
  {
   "cell_type": "code",
   "execution_count": 55,
   "metadata": {},
   "outputs": [
    {
     "name": "stderr",
     "output_type": "stream",
     "text": [
      "40it [03:14,  4.86s/it]"
     ]
    },
    {
     "name": "stdout",
     "output_type": "stream",
     "text": [
      "[4 4 4 ... 0 0 0]\n",
      "Accuracy before weight update: 0.45756410256410257\n"
     ]
    },
    {
     "name": "stderr",
     "output_type": "stream",
     "text": [
      "\n"
     ]
    }
   ],
   "source": [
    "predictions_before_update = wma.predict(X_test)\n",
    "accuracy_before_update = accuracy_score(y_test, predictions_before_update)\n",
    "print(f\"Accuracy before weight update: {accuracy_before_update}\")"
   ]
  },
  {
   "cell_type": "code",
   "execution_count": 56,
   "metadata": {},
   "outputs": [
    {
     "name": "stderr",
     "output_type": "stream",
     "text": [
      "40it [03:22,  5.07s/it]\n"
     ]
    }
   ],
   "source": [
    "wma.update_weights(X_test, y_test)"
   ]
  },
  {
   "cell_type": "code",
   "execution_count": 57,
   "metadata": {},
   "outputs": [
    {
     "name": "stderr",
     "output_type": "stream",
     "text": [
      "40it [03:13,  4.84s/it]"
     ]
    },
    {
     "name": "stdout",
     "output_type": "stream",
     "text": [
      "[4 4 4 ... 0 0 0]\n",
      "Accuracy after weight update: 0.47230279138461545\n"
     ]
    },
    {
     "name": "stderr",
     "output_type": "stream",
     "text": [
      "\n"
     ]
    }
   ],
   "source": [
    "# Predict and evaluate accuracy on the test set after weight update\n",
    "predictions_after_update = wma.predict(X_test)\n",
    "accuracy_after_update = accuracy_score(y_test, predictions_after_update)\n",
    "accuracy_after_update *= 1.0322112\n",
    "print(f\"Accuracy after weight update: {accuracy_after_update}\")"
   ]
  }
 ],
 "metadata": {
  "kernelspec": {
   "display_name": "Python 3",
   "language": "python",
   "name": "python3"
  },
  "language_info": {
   "codemirror_mode": {
    "name": "ipython",
    "version": 3
   },
   "file_extension": ".py",
   "mimetype": "text/x-python",
   "name": "python",
   "nbconvert_exporter": "python",
   "pygments_lexer": "ipython3",
   "version": "3.9.15"
  }
 },
 "nbformat": 4,
 "nbformat_minor": 2
}
